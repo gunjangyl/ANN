{
 "cells": [
  {
   "cell_type": "code",
   "execution_count": 1,
   "id": "b0749acd-5dba-4097-aad0-f74d795f3ca8",
   "metadata": {},
   "outputs": [],
   "source": [
    "import numpy as np"
   ]
  },
  {
   "cell_type": "code",
   "execution_count": 2,
   "id": "f15d2af1-4158-4b76-9b05-702a51427815",
   "metadata": {},
   "outputs": [],
   "source": [
    "#Sigmoid Function\n",
    "def sigmoid(x):\n",
    "    return 1/(1+np.exp(-x))"
   ]
  },
  {
   "cell_type": "code",
   "execution_count": 3,
   "id": "287ec118-2d15-4774-a54c-9c3d6263972b",
   "metadata": {},
   "outputs": [],
   "source": [
    "#One more function\n",
    "def sigmoid_derivative(x):\n",
    "    return x*(1-x)"
   ]
  },
  {
   "cell_type": "code",
   "execution_count": 4,
   "id": "a4bb8eaf-3778-42b9-b984-f25a6979b007",
   "metadata": {},
   "outputs": [
    {
     "data": {
      "text/plain": [
       "array([[0, 1, 1],\n",
       "       [1, 0, 0],\n",
       "       [1, 0, 1],\n",
       "       [0, 1, 1]])"
      ]
     },
     "execution_count": 4,
     "metadata": {},
     "output_type": "execute_result"
    }
   ],
   "source": [
    "#Training Inputs\n",
    "training_inputs=np.array(([0,1,1],[1,0,0],[1,0,1],[0,1,1]))\n",
    "training_inputs"
   ]
  },
  {
   "cell_type": "code",
   "execution_count": 5,
   "id": "63ebe464-5313-425a-aa8b-64edc62be185",
   "metadata": {},
   "outputs": [
    {
     "data": {
      "text/plain": [
       "array([[0],\n",
       "       [1],\n",
       "       [1],\n",
       "       [0]])"
      ]
     },
     "execution_count": 5,
     "metadata": {},
     "output_type": "execute_result"
    }
   ],
   "source": [
    "#Training Outputs\n",
    "training_outputs=np.array([[0,1,1,0]]).T     # \"T\" to display transpose matrix\n",
    "training_outputs"
   ]
  },
  {
   "cell_type": "code",
   "execution_count": 6,
   "id": "e9882b6d-7273-4669-b71c-568d7c720049",
   "metadata": {},
   "outputs": [
    {
     "data": {
      "text/plain": [
       "array([[0.],\n",
       "       [0.],\n",
       "       [0.]])"
      ]
     },
     "execution_count": 6,
     "metadata": {},
     "output_type": "execute_result"
    }
   ],
   "source": [
    "#for one sample, there can be 3 weights\n",
    "weights=np.array([[0],[0],[0]],dtype='float64')\n",
    "weights"
   ]
  },
  {
   "cell_type": "code",
   "execution_count": 7,
   "id": "6974d95a-39cb-4594-8685-74ec7ab8e908",
   "metadata": {},
   "outputs": [],
   "source": [
    "#Training of neural network\n",
    "for i in range(1000):\n",
    "    input_layer=training_inputs\n",
    "    outputs=sigmoid(np.dot(input_layer, weights))\n",
    "    error=training_outputs-outputs\n",
    "    adjustments=error*sigmoid_derivative(outputs)\n",
    "    weights=weights+np.dot(input_layer.T,adjustments) #T for transpose matrix"
   ]
  },
  {
   "cell_type": "code",
   "execution_count": 8,
   "id": "3ef5ad31-5c62-4704-83a8-273f12c44451",
   "metadata": {},
   "outputs": [
    {
     "data": {
      "text/plain": [
       "array([[0.01554589],\n",
       "       [0.98854428],\n",
       "       [0.97897653],\n",
       "       [0.01554589]])"
      ]
     },
     "execution_count": 8,
     "metadata": {},
     "output_type": "execute_result"
    }
   ],
   "source": [
    "outputs"
   ]
  },
  {
   "cell_type": "code",
   "execution_count": null,
   "id": "c016bd92-5220-4321-9f27-693d113e16bb",
   "metadata": {},
   "outputs": [],
   "source": []
  }
 ],
 "metadata": {
  "kernelspec": {
   "display_name": "Python 3 (ipykernel)",
   "language": "python",
   "name": "python3"
  },
  "language_info": {
   "codemirror_mode": {
    "name": "ipython",
    "version": 3
   },
   "file_extension": ".py",
   "mimetype": "text/x-python",
   "name": "python",
   "nbconvert_exporter": "python",
   "pygments_lexer": "ipython3",
   "version": "3.12.1"
  }
 },
 "nbformat": 4,
 "nbformat_minor": 5
}
