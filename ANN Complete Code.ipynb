{
 "cells": [
  {
   "cell_type": "code",
   "execution_count": 1,
   "id": "09117309-de23-4d8b-914a-e8419ad15e42",
   "metadata": {},
   "outputs": [],
   "source": [
    "import numpy as np"
   ]
  },
  {
   "cell_type": "code",
   "execution_count": 2,
   "id": "1fcf6511-d08c-4681-9fe6-11a78f4a5dda",
   "metadata": {},
   "outputs": [],
   "source": [
    "class NeuralNetwork:\n",
    "    def __init__(self):\n",
    "        self.weights=np.array([[0],[0],[0]], dtype='float64')\n",
    "\n",
    "    def sigmoid(self,x):\n",
    "        return 1/(1+np.exp(-x))\n",
    "\n",
    "    def sigmoid_derivative(self,x):\n",
    "        return x*(1-x)\n",
    "\n",
    "    def think(self, inputs):\n",
    "        inputs=inputs.astype(float)\n",
    "        output=self.sigmoid(np.dot(inputs,self.weights))      #Calling of sigmoid function\n",
    "        return output\n",
    "        \n",
    "    def train(self,training_inputs, training_outputs, training_iterations):\n",
    "        for iteration in range(training_iterations):\n",
    "            output=self.think(training_inputs)\n",
    "            error=training_outputs-output\n",
    "            adjustments=error*self.sigmoid_derivative(output)\n",
    "            self.weights=self.weights+np.dot(training_inputs.T,adjustments) #T for transpose matrix"
   ]
  },
  {
   "cell_type": "code",
   "execution_count": 3,
   "id": "87a0caae-baff-4b32-9b88-2a660aa1dcca",
   "metadata": {},
   "outputs": [
    {
     "data": {
      "text/plain": [
       "array([[0, 1, 1],\n",
       "       [1, 0, 0],\n",
       "       [1, 0, 1],\n",
       "       [0, 1, 1]])"
      ]
     },
     "execution_count": 3,
     "metadata": {},
     "output_type": "execute_result"
    }
   ],
   "source": [
    "#Training & Testing of Model\n",
    "\n",
    "neural_network=NeuralNetwork() #Creating an object\n",
    "#Training Inputs\n",
    "training_inputs=np.array(([0,1,1],[1,0,0],[1,0,1],[0,1,1]))\n",
    "training_inputs"
   ]
  },
  {
   "cell_type": "code",
   "execution_count": 4,
   "id": "47c7d16a-6d58-4084-b1b2-ebed552f99c1",
   "metadata": {},
   "outputs": [
    {
     "data": {
      "text/plain": [
       "array([[0],\n",
       "       [1],\n",
       "       [1],\n",
       "       [0]])"
      ]
     },
     "execution_count": 4,
     "metadata": {},
     "output_type": "execute_result"
    }
   ],
   "source": [
    "#Training Outputs\n",
    "training_outputs=np.array([[0,1,1,0]]).T     # \"T\" to display transpose matrix\n",
    "training_outputs"
   ]
  },
  {
   "cell_type": "code",
   "execution_count": 5,
   "id": "20cef85d-b428-4b67-9164-87d0e7cf1383",
   "metadata": {},
   "outputs": [],
   "source": [
    "neural_network.train(training_inputs, training_outputs, 10000)"
   ]
  },
  {
   "cell_type": "code",
   "execution_count": 10,
   "id": "c75c2d91-db6f-47fb-ab3c-489ef6888acb",
   "metadata": {},
   "outputs": [
    {
     "name": "stdin",
     "output_type": "stream",
     "text": [
      "Input 1: 1\n",
      "Input 2: 0\n",
      "Input 3: 1\n"
     ]
    },
    {
     "name": "stdout",
     "output_type": "stream",
     "text": [
      "Output= 1.0\n"
     ]
    }
   ],
   "source": [
    "#Now test model for a new input\n",
    "A=input(\"Input 1:\")\n",
    "B=input(\"Input 2:\")\n",
    "C=input(\"Input 3:\")\n",
    "print(\"Output=\", neural_network.think(np.array([A,B,C]))[0].round())\n"
   ]
  },
  {
   "cell_type": "code",
   "execution_count": null,
   "id": "aa7d471a-9eea-48ac-be74-c74a2a0b751b",
   "metadata": {},
   "outputs": [],
   "source": []
  }
 ],
 "metadata": {
  "kernelspec": {
   "display_name": "Python 3 (ipykernel)",
   "language": "python",
   "name": "python3"
  },
  "language_info": {
   "codemirror_mode": {
    "name": "ipython",
    "version": 3
   },
   "file_extension": ".py",
   "mimetype": "text/x-python",
   "name": "python",
   "nbconvert_exporter": "python",
   "pygments_lexer": "ipython3",
   "version": "3.9.13"
  }
 },
 "nbformat": 4,
 "nbformat_minor": 5
}
